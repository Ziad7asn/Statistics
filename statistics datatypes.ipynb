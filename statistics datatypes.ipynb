{
 "cells": [
  {
   "cell_type": "markdown",
   "id": "b900c7b7",
   "metadata": {},
   "source": [
    "# Numerical"
   ]
  },
  {
   "cell_type": "markdown",
   "id": "847d525b",
   "metadata": {},
   "source": [
    "##  Ratio "
   ]
  },
  {
   "cell_type": "markdown",
   "id": "bf9a32f6",
   "metadata": {},
   "source": [
    "* **Equal Intervals**: Intervals between values are equal throughout the scale. A difference of 5 to 10 is as meaningful as 15 to 20.\n",
    "\n",
    "\n",
    "\n"
   ]
  },
  {
   "cell_type": "markdown",
   "id": "79db099d",
   "metadata": {},
   "source": [
    "* **True Zero Point**: There's an absolute zero point, signifying absence. For instance, 0 kg means no weight."
   ]
  },
  {
   "cell_type": "markdown",
   "id": "f6cb7707",
   "metadata": {},
   "source": [
    "\n",
    "* **Arithmetic Operations**: It allows addition, subtraction, multiplication, and division. Ratios and proportions can be calculated."
   ]
  },
  {
   "cell_type": "markdown",
   "id": "3d5a7809",
   "metadata": {},
   "source": [
    "Variables on a ratio scale include age, height, weight, distance, and time. A value of zero has a specific meaning, like 0 kg being no weight or 0 time implying no duration."
   ]
  },
  {
   "cell_type": "markdown",
   "id": "b26e7437",
   "metadata": {},
   "source": [
    "## Interval "
   ]
  },
  {
   "cell_type": "markdown",
   "id": "8730bb16",
   "metadata": {},
   "source": [
    "* **Equal Intervals**: Intervals between values are equal and consistent. Differences hold the same meaning across the scale."
   ]
  },
  {
   "cell_type": "markdown",
   "id": "c00b634a",
   "metadata": {},
   "source": [
    "* **No True Zero**: Unlike the ratio scale, there's no true zero point indicating absence. For instance, 0°C doesn't mean no temperature."
   ]
  },
  {
   "cell_type": "markdown",
   "id": "5d5b391b",
   "metadata": {},
   "source": [
    "* **Arithmetic (+/-) Operations**: You can add and subtract values. However, multiplication and division lack meaning due to the missing true zero."
   ]
  },
  {
   "cell_type": "markdown",
   "id": "5c3065f3",
   "metadata": {},
   "source": [
    "Variables like Celsius temperature, IQ scores, and calendar years are measured on the interval scale.\n",
    "\n",
    "\n",
    "\n",
    "\n"
   ]
  },
  {
   "cell_type": "markdown",
   "id": "08b169ed",
   "metadata": {},
   "source": [
    "## Discrete \n",
    "describe a type of data or variable that can only take specific, distinct values, often separated by gaps or intervals. In other words, discrete data points are distinct and separate, and they are not continuous or infinitely divisible."
   ]
  },
  {
   "cell_type": "markdown",
   "id": "73709676",
   "metadata": {},
   "source": [
    "* **Distinct Values**: Discrete data can only have certain well-defined values. These values are often "
   ]
  },
  {
   "cell_type": "markdown",
   "id": "a7d7ec99",
   "metadata": {},
   "source": [
    "* **Countable**: Discrete data can be counted since it consists of individual and separate units."
   ]
  },
  {
   "cell_type": "markdown",
   "id": "3f7c5642",
   "metadata": {},
   "source": [
    "* **Gaps between Values**: There are gaps or intervals between possible values. For example, the number of students in a classroom can only be whole numbers, and there is no \"in-between\" value like 2.5 students."
   ]
  },
  {
   "cell_type": "markdown",
   "id": "481966d7",
   "metadata": {},
   "source": [
    "#### Examples of discrete data include:\n",
    "\n",
    "* The number of people in a household (you can't have a fraction of a person).\n",
    "* The count of cars passing through a toll booth.\n",
    "* The number of emails received in a day."
   ]
  },
  {
   "cell_type": "markdown",
   "id": "b88d308d",
   "metadata": {},
   "source": [
    "# Categorical (labels)"
   ]
  },
  {
   "cell_type": "markdown",
   "id": "9dc29275",
   "metadata": {},
   "source": [
    "## ordinal \n",
    "refers to categories with a meaningful order, but the differences between the categories aren't consistent or precisely measurable. It's used to rank qualities"
   ]
  },
  {
   "cell_type": "markdown",
   "id": "b534865e",
   "metadata": {},
   "source": [
    "* **Ordered Categories**: Ordinal data values have a specific order or ranking. They convey information about the relative position of the categories but not the exact differences between them.\n",
    "\n"
   ]
  },
  {
   "cell_type": "markdown",
   "id": "6b7ca1dd",
   "metadata": {},
   "source": [
    "* **No Fixed Intervals**: Unlike interval or ratio scales, ordinal data do not have consistent or equal intervals between values. The differences between ordinal values are not quantitatively comparable.\n"
   ]
  },
  {
   "cell_type": "markdown",
   "id": "5f47341f",
   "metadata": {},
   "source": [
    "* **Qualitative Nature**: Ordinal data are often used to describe qualities or attributes that can be ranked, such as customer satisfaction levels (e.g., \"very satisfied,\" \"satisfied,\" \"neutral,\" \"dissatisfied,\" \"very dissatisfied\")."
   ]
  },
  {
   "cell_type": "markdown",
   "id": "145703fd",
   "metadata": {},
   "source": [
    "#### Examples of ordinal data include:\n",
    "\n",
    "* Educational levels (e.g., \"high school,\" \"bachelor's,\" \"master's,\" \"doctorate\").\n",
    "* Socioeconomic status categories (e.g., \"low income,\" \"middle income,\" \"high income\").\n",
    "* Likert scale responses (e.g., \"strongly agree,\" \"agree,\" \"neutral,\" \"disagree,\" \"strongly disagree\")."
   ]
  },
  {
   "cell_type": "markdown",
   "id": "719767c5",
   "metadata": {},
   "source": [
    "## nominal \n",
    "\n",
    "describe a type of data or variable that represents categories without any inherent order or ranking. Nominal data involve distinct groups or labels used to classify items or observations."
   ]
  },
  {
   "cell_type": "markdown",
   "id": "d0f6e2c6",
   "metadata": {},
   "source": [
    "* **Categories without Order**: Nominal data categories do not have a meaningful order or ranking. They are just different labels used to classify items.\n",
    "\n",
    "\n",
    "\n"
   ]
  },
  {
   "cell_type": "markdown",
   "id": "636c0bea",
   "metadata": {},
   "source": [
    "* **No Numerical Meaning**: Unlike ordinal, interval, or ratio scales, nominal data do not have numerical significance. The values do not represent quantities or measurements."
   ]
  },
  {
   "cell_type": "markdown",
   "id": "0631b441",
   "metadata": {},
   "source": [
    "* **Qualitative Labels**: Nominal data are often used to describe categorical attributes or qualities that have no inherent numerical value, such as gender, color, or types of animals."
   ]
  },
  {
   "cell_type": "markdown",
   "id": "7e2a8a46",
   "metadata": {},
   "source": [
    "#### Examples of nominal data include:\n",
    "\n",
    "* Gender categories (\"male,\" \"female\").\n",
    "* Colors (\"red,\" \"blue,\" \"green\").\n",
    "* Types of animals (\"dog,\" \"cat,\" \"bird\").\n"
   ]
  },
  {
   "cell_type": "code",
   "execution_count": null,
   "id": "c2cb0d39",
   "metadata": {},
   "outputs": [],
   "source": []
  }
 ],
 "metadata": {
  "kernelspec": {
   "display_name": "Python 3 (ipykernel)",
   "language": "python",
   "name": "python3"
  },
  "language_info": {
   "codemirror_mode": {
    "name": "ipython",
    "version": 3
   },
   "file_extension": ".py",
   "mimetype": "text/x-python",
   "name": "python",
   "nbconvert_exporter": "python",
   "pygments_lexer": "ipython3",
   "version": "3.9.13"
  }
 },
 "nbformat": 4,
 "nbformat_minor": 5
}
