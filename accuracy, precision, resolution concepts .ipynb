{
 "cells": [
  {
   "cell_type": "markdown",
   "id": "fa2ce5b8",
   "metadata": {},
   "source": [
    "\n",
    "\n",
    "### **Accuracy:**\n",
    "Accuracy pertains to how closely a measured or computed value aligns with the true or intended value. It indicates the correctness of a measurement or prediction. Put simply, accuracy gauges how faithfully a measurement or prediction mirrors reality.\n",
    "\n",
    "* **Example:** Suppose you employ a thermometer to gauge the temperature of a liquid. If the actual temperature is 25°C, and your thermometer registers the same value of 25°C, then your measurement is accurate.\n",
    "\n",
    "### **Precision:**\n",
    "Precision concerns the degree of consistency or replicability in measurements or predictions. It reflects how closely multiple measurements align with each other. A precise measurement may not be accurate, but it consistently yields similar outcomes.\n",
    "\n",
    "* **Example:** Imagine utilizing a digital scale to measure an object's weight. If you conduct several weighings and obtain readings of 10.1g, 10.0g, 10.2g, and 9.9g, these measurements are precise due to their close proximity. However, if the true weight of the object is 15g, the measurements lack accuracy.\n",
    "\n",
    "### **Resolution:**\n",
    "Resolution refers to the smallest perceivable difference or measurement unit detectable by an instrument. It denotes the tiniest alteration that can be observed or recorded. A higher resolution permits the detection of minuscule changes.\n",
    "\n",
    "* **Example:** In digital imagery, resolution dictates the level of detail. Higher-resolution images contain more pixels, enabling the capture of finer details. For instance, a photograph with high resolution will showcase intricate textures and crisp lines, whereas a low-resolution image may appear pixelated.\n",
    "\n",
    "# Case Study \n",
    "\n",
    "Let's envision a scenario where a scientist conducts experiments to ascertain the acidity of solutions using a pH meter. The scientist examines three different solutions: A, B, and C.\n",
    "\n",
    "###  **Accuracy:** \n",
    "- Solution A: True pH = 7.0, Measured pH = 6.8\n",
    "- Solution B: True pH = 3.0, Measured pH = 2.5\n",
    "- Solution C: True pH = 9.0, Measured pH = 9.5\n",
    "\n",
    "In this case, Solution A displays relative accuracy, as the measured pH closely matches the true pH. Solution B exhibits lesser accuracy, while Solution C is not accurate at all.\n",
    "\n",
    "### **Precision:**\n",
    "- Solution A: Measured pH readings = 7.1, 7.0, 6.9\n",
    "- Solution B: Measured pH readings = 2.5, 2.6, 2.4\n",
    "- Solution C: Measured pH readings = 9.5, 9.6, 9.4\n",
    "\n",
    "In this scenario, all solutions demonstrate precision since the measurements are consistent and closely grouped. Solution A, in particular, seems to be the most precise.\n",
    "\n",
    "### **Resolution:**\n",
    "Suppose the pH meter utilized can measure pH with a resolution of 0.1 units.\n",
    "\n",
    "- If the meter reads 6.8, it signifies the pH could fall anywhere between 6.75 and 6.85.\n",
    "- If the meter reads 2.5, the pH might lie within the range of 2.45 to 2.55.\n",
    "\n",
    "In this instance, the pH meter's resolution is 0.1 units, and any reading falls within that margin.\n",
    "\n",
    "These concepts—accuracy, precision, and resolution—are pivotal for comprehending the caliber and dependability of measurements and data across various scientific and real-world applications."
   ]
  },
  {
   "cell_type": "markdown",
   "id": "adf1c5c2",
   "metadata": {},
   "source": [
    "## **High accuracy corresponds to minimal bias, while high precision corresponds to minimal variance, resulting in reduced uncertainty.**"
   ]
  },
  {
   "cell_type": "code",
   "execution_count": null,
   "id": "de6e0d9d",
   "metadata": {},
   "outputs": [],
   "source": []
  }
 ],
 "metadata": {
  "kernelspec": {
   "display_name": "Python 3 (ipykernel)",
   "language": "python",
   "name": "python3"
  },
  "language_info": {
   "codemirror_mode": {
    "name": "ipython",
    "version": 3
   },
   "file_extension": ".py",
   "mimetype": "text/x-python",
   "name": "python",
   "nbconvert_exporter": "python",
   "pygments_lexer": "ipython3",
   "version": "3.9.13"
  }
 },
 "nbformat": 4,
 "nbformat_minor": 5
}
